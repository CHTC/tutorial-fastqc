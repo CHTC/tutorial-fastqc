{
 "cells": [
  {
   "cell_type": "markdown",
   "id": "41e65a75-97f1-4e07-af19-5ca78710ebe7",
   "metadata": {},
   "source": [
    "# Bioinformatics Tutorial: Quality Assessment of Data with FastQC"
   ]
  },
  {
   "cell_type": "markdown",
   "id": "969f3be9-db7b-45b7-8273-dea8a251f831",
   "metadata": {},
   "source": [
    "The first step of most biofinformatic analyses is to assess the quality of the data you have recieved. In this example, we are working with real DNA sequencing data from a research project studying E. coli. We will use a common software, FastQC, to assess the quality of the data.  "
   ]
  },
  {
   "cell_type": "markdown",
   "id": "4726e3e1-1bc5-434e-a2b4-29d7385fdca7",
   "metadata": {},
   "source": [
    "## Step 1: Download data"
   ]
  },
  {
   "cell_type": "markdown",
   "id": "830ee656-1211-406c-a9cc-335ea4d7fc99",
   "metadata": {},
   "source": [
    "First, we need to download our sequencing data to that we want to analyze for our research project. "
   ]
  },
  {
   "cell_type": "markdown",
   "id": "261d67db-cbdc-4791-95c5-740736694129",
   "metadata": {},
   "source": [
    "We have a script called `download_data.sh` that will download our bioinformatic data. Let's go ahead and run this script to download our data. "
   ]
  },
  {
   "cell_type": "code",
   "execution_count": null,
   "id": "fb497641-ba23-47d1-91f5-2988c1318454",
   "metadata": {},
   "outputs": [],
   "source": [
    "./download_data.sh"
   ]
  },
  {
   "cell_type": "markdown",
   "id": "ef5da90b-88a6-4ef9-97af-3af4726ca80d",
   "metadata": {},
   "source": [
    "Our sequencing data files, all ending in .fastq, can now be found in a folder called /data. "
   ]
  },
  {
   "cell_type": "markdown",
   "id": "500f3689-cc56-4c4d-a226-4a0f65a0bad7",
   "metadata": {},
   "source": [
    "## Step 2: Install software"
   ]
  },
  {
   "cell_type": "markdown",
   "id": "77f1974b-4ff1-489c-b590-bc5c15c476ee",
   "metadata": {},
   "source": [
    "Now that we have our data, we need to install the software we want to use to analyze it. "
   ]
  },
  {
   "cell_type": "markdown",
   "id": "3af8852d-2d19-4c38-a365-598f976aa457",
   "metadata": {},
   "source": [
    "There are different ways to install and use software, including installing from source, using pre-compiled binaries, and containers. In the biology domains, many software packages are already available as pre-built containers. We can fetch one of these containers and have HTCondor set it up for our job, which means we do not have to install the FastQC software or it's dependencies. "
   ]
  },
  {
   "cell_type": "markdown",
   "id": "2a586317-cf1d-4b33-bd24-be8b59165cd3",
   "metadata": {},
   "source": [
    "The container we will use is available on Docker Hub: biocontainers/fastqc"
   ]
  },
  {
   "cell_type": "markdown",
   "id": "a84993ec-a91b-4059-aead-9bc7d33dd8d6",
   "metadata": {
    "tags": []
   },
   "source": [
    "It is possible to convert this Docker container to an apptainer container by creating an apptainer definition file:"
   ]
  },
  {
   "cell_type": "code",
   "execution_count": 3,
   "id": "53d23304-daf6-4d46-a541-ad15e38af901",
   "metadata": {},
   "outputs": [
    {
     "name": "stdout",
     "output_type": "stream",
     "text": [
      "fastqc.def  fastqc.sif\n"
     ]
    }
   ],
   "source": [
    "ls software/"
   ]
  },
  {
   "cell_type": "code",
   "execution_count": 4,
   "id": "a9c98789-bb0b-47a8-969b-571201ee4b8b",
   "metadata": {},
   "outputs": [
    {
     "name": "stdout",
     "output_type": "stream",
     "text": [
      "Bootstrap: docker\n",
      "From: staphb/fastqc\n"
     ]
    }
   ],
   "source": [
    "cat software/fastqc.def"
   ]
  },
  {
   "cell_type": "markdown",
   "id": "d2da55a4-9654-42ca-ba67-d05b834ebe65",
   "metadata": {},
   "source": [
    "And then running a command to build an apptainer container (which we won't run, but for future reference): \n",
    "`$ apptainer build fastqc.sif software/fastqc.def`"
   ]
  },
  {
   "cell_type": "markdown",
   "id": "6fc5258b-8a52-456c-8451-14f991f451da",
   "metadata": {},
   "source": [
    "### A quick aside: test on your local machine"
   ]
  },
  {
   "cell_type": "markdown",
   "id": "74842924-aec4-478c-820a-5951f70dc639",
   "metadata": {},
   "source": [
    "## Step 3: Prepare an executable"
   ]
  },
  {
   "cell_type": "markdown",
   "id": "24b7eebd-e66c-46be-9625-8036886c8833",
   "metadata": {},
   "source": [
    "We need to create an executable to pass to our HTCondor jobs, so that HTCondor knows what to run on our behalf. "
   ]
  },
  {
   "cell_type": "markdown",
   "id": "56842c2b-f568-4bd6-b61d-3798c0ca505c",
   "metadata": {},
   "source": [
    "Let's take a look at our executable, `fastqc.sh`:"
   ]
  },
  {
   "cell_type": "code",
   "execution_count": 5,
   "id": "23586ee2-276d-4fc0-985d-ae0a4039f37f",
   "metadata": {},
   "outputs": [
    {
     "name": "stdout",
     "output_type": "stream",
     "text": [
      "#!/bin/bash\n",
      "# Executable name: fastqc.sh\n",
      "\n",
      "# Run FastQC to determine the quality of our raw .fastq sequencing data\n",
      "fastqc $1\n"
     ]
    }
   ],
   "source": [
    "cat fastqc.sh"
   ]
  },
  {
   "cell_type": "markdown",
   "id": "c73c3efe-307b-4f1d-8777-5570134f1ea7",
   "metadata": {},
   "source": [
    "# Step 4: Prepare HTCondor submit file"
   ]
  },
  {
   "cell_type": "markdown",
   "id": "5cbf9809-97d3-414e-ad25-2af00752fb81",
   "metadata": {},
   "source": [
    "Now we create our HTCondor submit file, which tells HTCondor what to run and how many resources to make available to our job:"
   ]
  },
  {
   "cell_type": "code",
   "execution_count": 14,
   "id": "981828ad-11a7-4474-9624-1f0477ceeeea",
   "metadata": {},
   "outputs": [
    {
     "name": "stdout",
     "output_type": "stream",
     "text": [
      "# HTCondor Submit File: fastqc.submit\n",
      "\n",
      "# Provide our executable and arguments\n",
      "executable = fastqc.sh\n",
      "arguments = SRR2584863_1.trim.sub.fastq\n",
      "\n",
      "# Provide the container for our software\n",
      "universe    = container\n",
      "container_image = software/fastqc.sif\n",
      "\n",
      "# List files that need to be transferred to the job\n",
      "transfer_input_files = data/SRR2584863_1.trim.sub.fastq\n",
      "should_transfer_files = YES\n",
      "\n",
      "# Tell HTCondor to transfer output to our /results directory\n",
      "transfer_output_files = SRR2584863_1.trim.sub_fastq.html\n",
      "transfer_output_remaps = \"SRR2584863_1.trim.sub_fastq.html = /results/SRR2584863_1.trim.sub_fastq.html\"\n",
      "\n",
      "# Track job information\n",
      "log = logs/fastqc.log\n",
      "output = logs/fastqc.out\n",
      "error = logs/fastqc.err\n",
      "\n",
      "# Resource Requests\n",
      "request_cpus = 1\n",
      "request_memory = 1GB\n",
      "request_disk = 1GB\n",
      "\n",
      "# Tell HTCondor to run our job once:\n",
      "queue 1\n"
     ]
    }
   ],
   "source": [
    "cat fastqc.submit"
   ]
  },
  {
   "cell_type": "markdown",
   "id": "ad612650-88f2-408e-8e5d-9ca519222245",
   "metadata": {},
   "source": [
    "## Submit a Job"
   ]
  },
  {
   "cell_type": "markdown",
   "id": "e0c4d313-36bb-4a9f-a3f9-c39e641b87ea",
   "metadata": {},
   "source": [
    "We are ready to submit our first job!"
   ]
  },
  {
   "cell_type": "code",
   "execution_count": 23,
   "id": "d3086105-166b-425e-8b54-798d0c25dac3",
   "metadata": {},
   "outputs": [
    {
     "name": "stdout",
     "output_type": "stream",
     "text": [
      "Submitting job(s).\n",
      "WARNING: Committed job submission into the queue with the following warning(s):\n",
      "WARNING: QMGMT:0:Do not use HTCondor file transfers for container images as it does not scale to a large number of jobs. Instead, use Stash/OSDF: https://portal.osg-htc.org/documentation/htc_workloads/using_software/containers/#custom-singularity-images\n",
      "\n",
      "1 job(s) submitted to cluster 290010.\n"
     ]
    }
   ],
   "source": [
    "condor_submit fastqc.submit"
   ]
  },
  {
   "cell_type": "markdown",
   "id": "cabc97a4-914d-4762-8c0e-3b006c31b2e8",
   "metadata": {},
   "source": [
    "We can check on the status of our job in the queue using:"
   ]
  },
  {
   "cell_type": "code",
   "execution_count": null,
   "id": "e5f6568f-b4ce-412b-ac35-278fd3ae5bc5",
   "metadata": {},
   "outputs": [],
   "source": [
    "condor_q"
   ]
  },
  {
   "cell_type": "markdown",
   "id": "3cc79246-7437-400f-ba9c-62f8071635ca",
   "metadata": {},
   "source": [
    "## Check results"
   ]
  },
  {
   "cell_type": "code",
   "execution_count": null,
   "id": "e99f9029-2423-4d56-bf80-9f298ecf167e",
   "metadata": {},
   "outputs": [],
   "source": [
    "ls results/"
   ]
  },
  {
   "cell_type": "markdown",
   "id": "e3b02cd2-3a55-4123-8086-afb2d582f984",
   "metadata": {},
   "source": [
    "## Step 5: Scale out"
   ]
  },
  {
   "cell_type": "markdown",
   "id": "470e4414-c809-4ec9-932c-48de12e31403",
   "metadata": {},
   "source": [
    "## 5.1: Create a list of all files we want analyzed"
   ]
  },
  {
   "cell_type": "markdown",
   "id": "c9407a7b-e81c-4e53-b181-e64e0ecfded3",
   "metadata": {},
   "source": [
    "To queue a job to analyze each of our sequencing data files, we will take advantage of HTCondor's `queue` statement. First, let's create a list of files we want analyzed:"
   ]
  },
  {
   "cell_type": "code",
   "execution_count": null,
   "id": "28155434-10f8-43d3-8179-3896a5058ae0",
   "metadata": {},
   "outputs": [],
   "source": [
    "ls data/ > list_of_samples.txt"
   ]
  },
  {
   "cell_type": "markdown",
   "id": "778a71af-1a9b-4b73-826c-2486764bd962",
   "metadata": {},
   "source": [
    "Let us take a look: "
   ]
  },
  {
   "cell_type": "code",
   "execution_count": null,
   "id": "efc5fa3a-c752-4891-a002-7dc8dddd92ea",
   "metadata": {},
   "outputs": [],
   "source": [
    "cat list_of_samples.txt"
   ]
  },
  {
   "cell_type": "markdown",
   "id": "20b56c58-5593-4c04-b51d-e2799915b22b",
   "metadata": {},
   "source": [
    "## 5.2 Create a submit file to queue a job to analyze each biological sample"
   ]
  },
  {
   "cell_type": "markdown",
   "id": "1584dc02-9af9-4b6d-87fb-6cf08c764752",
   "metadata": {},
   "source": [
    "HTCondor has different `queue` syntaxes to help researchers automatically queue many jobs. We will use `queue <variable> from <list.txt>` to queue a job for each of of our samples in samples.txt. "
   ]
  },
  {
   "cell_type": "markdown",
   "id": "2b9d8f30-69ea-499d-bf2a-4ddd81b12565",
   "metadata": {},
   "source": [
    "The main changes to make to the submit file are replacing each occurence of the sample identifier with the $(sample) variable, and then iterating through our list of samples as shown in the queue statement at the end. "
   ]
  },
  {
   "cell_type": "markdown",
   "id": "72a6afb7-7fae-4e71-ad6a-e6f55650ffd9",
   "metadata": {},
   "source": [
    "Once we define `<variable>`, we can also use it elsewhere in the submit file. "
   ]
  },
  {
   "cell_type": "code",
   "execution_count": 23,
   "id": "38dc83dd-f515-40a9-be7d-6b9353de0ac0",
   "metadata": {},
   "outputs": [
    {
     "name": "stdout",
     "output_type": "stream",
     "text": [
      "cat: many-fastqc.submit: No such file or directory\n"
     ]
    },
    {
     "ename": "",
     "evalue": "1",
     "output_type": "error",
     "traceback": []
    }
   ],
   "source": [
    "cat many-fastqc.submit"
   ]
  },
  {
   "cell_type": "code",
   "execution_count": null,
   "id": "704fd86f-5b17-4902-b1d8-06b444db0b12",
   "metadata": {},
   "outputs": [],
   "source": [
    "# HTCondor Submit File: many-fastqc.submit\n",
    "\n",
    "# Provide our executable and arguments\n",
    "executable = fastqc.sh\n",
    "arguments = $(samples)\n",
    "\n",
    "# Provide the container for our software\n",
    "universe    = container\n",
    "container_image = software/fastqc.sif\n",
    "\n",
    "# List files that need to be transferred to the job\n",
    "transfer_input_files = data/$(samples)\n",
    "should_transfer_files = YES\n",
    "\n",
    "# Tell HTCondor to transfer output to our /results directory\n",
    "transfer_output_files = $(samples).html\n",
    "transfer_output_remaps = \"$(samples).html = /results/$(samples).html\"\n",
    "\n",
    "# Track job information\n",
    "log = $(samples).fastqc.log\n",
    "output = $(samples).fastqc.out\n",
    "error = $(samples).fastqc.err\n",
    "\n",
    "# Resource Requests\n",
    "request_cpus = 1\n",
    "request_memory = 1GB\n",
    "request_disk = 1GB\n",
    "\n",
    "# Tell HTCondor to run a job for each sample in our list\n",
    "queue samples from list_of_samples.txt"
   ]
  },
  {
   "cell_type": "markdown",
   "id": "20a9e9eb-8b31-4d2b-95a7-64df7e17567a",
   "metadata": {},
   "source": [
    "And then submit many jobs using this single submit file!"
   ]
  },
  {
   "cell_type": "code",
   "execution_count": null,
   "id": "31e6392e-928f-4b8c-8aca-e8470a9a99d6",
   "metadata": {},
   "outputs": [],
   "source": [
    "condor_submit many-fastqc.submit"
   ]
  },
  {
   "cell_type": "markdown",
   "id": "fca4635b-6aac-4fc3-8fa7-fe7a08b58b5e",
   "metadata": {},
   "source": [
    "## 5.3 Check on jobs in the queue"
   ]
  },
  {
   "cell_type": "markdown",
   "id": "cff8d5f4-b7a3-4c1d-bb22-b1f9e26e04e8",
   "metadata": {},
   "source": [
    "We can check on the status of our multiple jobs in HTCondor's queue by using:"
   ]
  },
  {
   "cell_type": "code",
   "execution_count": null,
   "id": "f895390a-b20a-4076-90de-bcd94236c784",
   "metadata": {},
   "outputs": [],
   "source": [
    "condor_q"
   ]
  },
  {
   "cell_type": "markdown",
   "id": "678fa233-0235-416d-a32d-4cfd0a76b2af",
   "metadata": {},
   "source": [
    "## 5.4 Check results"
   ]
  },
  {
   "cell_type": "markdown",
   "id": "bb148c39-3595-4745-bcd9-123a667b8b43",
   "metadata": {},
   "source": [
    "ls /results"
   ]
  },
  {
   "cell_type": "code",
   "execution_count": 13,
   "id": "73d52af9-4d70-4b79-8984-8e57336f8984",
   "metadata": {},
   "outputs": [
    {
     "name": "stdout",
     "output_type": "stream",
     "text": [
      "09/22/23 17:30:05 (fd:4) (pid:255) (D_CONFIG) config: using subsystem 'TOOL', local ''\n",
      "09/22/23 17:30:05 (fd:4) (pid:255) (D_LOAD) Reading from /proc/cpuinfo\n",
      "09/22/23 17:30:05 (fd:4) (pid:255) (D_LOAD) Found: Physical-IDs:True; Core-IDs:True\n",
      "09/22/23 17:30:05 (fd:4) (pid:255) (D_LOAD) Analyzing 40 processors using IDs...\n",
      "09/22/23 17:30:05 (fd:4) (pid:255) (D_HOSTNAME) NETWORK_INTERFACE=* matches lo 127.0.0.1, eth0 10.129.189.107, lo ::1, eth0 2607:f388:2200:a1:5302:f63:f88e:3f7c, eth0 fe80::d067:70ff:fedd:3112, choosing IP 2607:f388:2200:a1:5302:f63:f88e:3f7c\n",
      "09/22/23 17:30:05 (fd:4) (pid:255) (D_HOSTNAME) DNS returned:\n",
      "09/22/23 17:30:05 (fd:4) (pid:255) (D_HOSTNAME) \t2607:f388:2200:a1:5302:f63:f88e:3f7c\n",
      "09/22/23 17:30:05 (fd:4) (pid:255) (D_HOSTNAME) \t10.129.189.107\n",
      "09/22/23 17:30:05 (fd:4) (pid:255) (D_HOSTNAME) We returned:\n",
      "09/22/23 17:30:05 (fd:4) (pid:255) (D_HOSTNAME) \t10.129.189.107\n",
      "09/22/23 17:30:05 (fd:4) (pid:255) (D_HOSTNAME) \t2607:f388:2200:a1:5302:f63:f88e:3f7c\n",
      "09/22/23 17:30:05 (fd:4) (pid:255) (D_HOSTNAME) hostname: jupyter-eppn-3arllombardi-40wisc-2eedu\n",
      "09/22/23 17:30:05 (fd:4) (pid:255) (D_HOSTNAME) I am: hostname: jupyter-eppn-3arllombardi-40wisc-2eedu, fully qualified doman name: jupyter-eppn-3arllombardi-40wisc-2eedu, IP: 2607:f388:2200:a1:5302:f63:f88e:3f7c, IPv4: 10.129.189.107, IPv6: 2607:f388:2200:a1:5302:f63:f88e:3f7c\n",
      "09/22/23 17:30:05 (fd:4) (pid:255) (D_HOSTNAME) Trying to getting network interface information after reading config\n",
      "09/22/23 17:30:05 (fd:4) (pid:255) (D_HOSTNAME) NETWORK_INTERFACE=* matches lo 127.0.0.1, eth0 10.129.189.107, lo ::1, eth0 2607:f388:2200:a1:5302:f63:f88e:3f7c, eth0 fe80::d067:70ff:fedd:3112, choosing IP 2607:f388:2200:a1:5302:f63:f88e:3f7c\n",
      "09/22/23 17:30:05 (fd:4) (pid:255) (D_HOSTNAME) NETWORK_INTERFACE=* matches lo 127.0.0.1, eth0 10.129.189.107, lo ::1, eth0 2607:f388:2200:a1:5302:f63:f88e:3f7c, eth0 fe80::d067:70ff:fedd:3112, choosing IP 2607:f388:2200:a1:5302:f63:f88e:3f7c\n",
      "09/22/23 17:30:05 (fd:4) (pid:255) (D_HOSTNAME) DNS returned:\n",
      "09/22/23 17:30:05 (fd:4) (pid:255) (D_HOSTNAME) \t2607:f388:2200:a1:5302:f63:f88e:3f7c\n",
      "09/22/23 17:30:05 (fd:4) (pid:255) (D_HOSTNAME) \t10.129.189.107\n",
      "09/22/23 17:30:05 (fd:4) (pid:255) (D_HOSTNAME) We returned:\n",
      "09/22/23 17:30:05 (fd:4) (pid:255) (D_HOSTNAME) \t10.129.189.107\n",
      "09/22/23 17:30:05 (fd:4) (pid:255) (D_HOSTNAME) \t2607:f388:2200:a1:5302:f63:f88e:3f7c\n",
      "09/22/23 17:30:05 (fd:4) (pid:255) (D_HOSTNAME) hostname: jupyter-eppn-3arllombardi-40wisc-2eedu\n",
      "09/22/23 17:30:05 (fd:4) (pid:255) (D_HOSTNAME) I am: hostname: jupyter-eppn-3arllombardi-40wisc-2eedu, fully qualified doman name: jupyter-eppn-3arllombardi-40wisc-2eedu, IP: 2607:f388:2200:a1:5302:f63:f88e:3f7c, IPv4: 10.129.189.107, IPv6: 2607:f388:2200:a1:5302:f63:f88e:3f7c\n",
      "09/22/23 17:30:05 (fd:4) (pid:255) (D_HOSTNAME) COLLECTOR_HOST is set to \"cm-1.ospool.osg-htc.org, cm-2.ospool.osg-htc.org\"\n",
      "09/22/23 17:30:05 (fd:4) (pid:255) (D_DAEMONCORE) *** TIMEOUT_MULTIPLIER :: 0\n",
      "09/22/23 17:30:05 (fd:4) (pid:255) (D_HOSTNAME) Checking if cm-1.ospool.osg-htc.org is a sinful address\n",
      "09/22/23 17:30:05 (fd:4) (pid:255) (D_HOSTNAME) cm-1.ospool.osg-htc.org is not a sinful address: does not begin with \"<\"\n",
      "09/22/23 17:30:05 (fd:4) (pid:255) (D_HOSTNAME) New Daemon obj (collector) name: \"cm-1.ospool.osg-htc.org\", pool: \"NULL\", addr: \"NULL\"\n",
      "09/22/23 17:30:05 (fd:4) (pid:255) (D_HOSTNAME) Using name \"cm-1.ospool.osg-htc.org\" to find daemon\n",
      "09/22/23 17:30:05 (fd:4) (pid:255) (D_HOSTNAME) Port not specified, using default (9618)\n",
      "09/22/23 17:30:05 (fd:4) (pid:255) (D_HOSTNAME) Host info \"cm-1.ospool.osg-htc.org\" is a hostname, finding IP address\n",
      "09/22/23 17:30:05 (fd:4) (pid:255) (D_HOSTNAME) DNS returned:\n",
      "09/22/23 17:30:05 (fd:4) (pid:255) (D_HOSTNAME) \t128.104.103.187\n",
      "09/22/23 17:30:05 (fd:4) (pid:255) (D_HOSTNAME) We returned:\n",
      "09/22/23 17:30:05 (fd:4) (pid:255) (D_HOSTNAME) \t128.104.103.187\n",
      "09/22/23 17:30:05 (fd:4) (pid:255) (D_HOSTNAME) Found CM IP address and port <128.104.103.187:9618?alias=cm-1.ospool.osg-htc.org>\n",
      "09/22/23 17:30:05 (fd:4) (pid:255) (D_HOSTNAME) Daemon client (collector) address determined: name: \"cm-1.ospool.osg-htc.org\", pool: \"cm-1.ospool.osg-htc.org\", alias: \"cm-1.ospool.osg-htc.org\", addr: \"<128.104.103.187:9618?alias=cm-1.ospool.osg-htc.org>\"\n",
      "09/22/23 17:30:05 (fd:4) (pid:255) (D_DAEMONCORE) *** TIMEOUT_MULTIPLIER :: 0\n",
      "09/22/23 17:30:05 (fd:4) (pid:255) (D_HOSTNAME) Checking if cm-2.ospool.osg-htc.org is a sinful address\n",
      "09/22/23 17:30:05 (fd:4) (pid:255) (D_HOSTNAME) cm-2.ospool.osg-htc.org is not a sinful address: does not begin with \"<\"\n",
      "09/22/23 17:30:05 (fd:4) (pid:255) (D_HOSTNAME) New Daemon obj (collector) name: \"cm-2.ospool.osg-htc.org\", pool: \"NULL\", addr: \"NULL\"\n",
      "09/22/23 17:30:05 (fd:4) (pid:255) (D_HOSTNAME) Using name \"cm-2.ospool.osg-htc.org\" to find daemon\n",
      "09/22/23 17:30:05 (fd:4) (pid:255) (D_HOSTNAME) Port not specified, using default (9618)\n",
      "09/22/23 17:30:05 (fd:4) (pid:255) (D_HOSTNAME) Host info \"cm-2.ospool.osg-htc.org\" is a hostname, finding IP address\n",
      "09/22/23 17:30:05 (fd:4) (pid:255) (D_HOSTNAME) DNS returned:\n",
      "09/22/23 17:30:05 (fd:4) (pid:255) (D_HOSTNAME) \t192.170.231.10\n",
      "09/22/23 17:30:05 (fd:4) (pid:255) (D_HOSTNAME) We returned:\n",
      "09/22/23 17:30:05 (fd:4) (pid:255) (D_HOSTNAME) \t192.170.231.10\n",
      "09/22/23 17:30:05 (fd:4) (pid:255) (D_HOSTNAME) Found CM IP address and port <192.170.231.10:9618?alias=cm-2.ospool.osg-htc.org>\n",
      "09/22/23 17:30:05 (fd:4) (pid:255) (D_HOSTNAME) Daemon client (collector) address determined: name: \"cm-2.ospool.osg-htc.org\", pool: \"cm-2.ospool.osg-htc.org\", alias: \"cm-2.ospool.osg-htc.org\", addr: \"<192.170.231.10:9618?alias=cm-2.ospool.osg-htc.org>\"\n",
      "09/22/23 17:30:05 (fd:4) (pid:255) (D_DAEMONCORE) *** TIMEOUT_MULTIPLIER :: 0\n",
      "09/22/23 17:30:05 (fd:4) (pid:255) (D_HOSTNAME) New Daemon obj (schedd) name: \"NULL\", pool: \"NULL\", addr: \"NULL\"\n",
      "09/22/23 17:30:05 (fd:4) (pid:255) (D_HOSTNAME) No name given, but SCHEDD_HOST defined to \"ap40.uw.osg-htc.org\"\n",
      "09/22/23 17:30:05 (fd:4) (pid:255) (D_HOSTNAME) Finding proper daemon name for \"ap40.uw.osg-htc.org\"\n",
      "09/22/23 17:30:05 (fd:4) (pid:255) (D_HOSTNAME) Daemon name contains no '@', treating as a regular hostname\n",
      "09/22/23 17:30:05 (fd:4) (pid:255) (D_HOSTNAME) Returning daemon name: \"ap40.uw.osg-htc.org\"\n",
      "09/22/23 17:30:05 (fd:4) (pid:255) (D_HOSTNAME) Using \"ap40.uw.osg-htc.org\" for name in Daemon object\n",
      "09/22/23 17:30:05 (fd:4) (pid:255) (D_HOSTNAME) Using \"ap40.uw.osg-htc.org\" for full hostname in Daemon object\n",
      "09/22/23 17:30:05 (fd:4) (pid:255) (D_HOSTNAME) Local daemon name would be \"jupyter-eppn-3arllombardi-40wisc-2eedu\"\n",
      "09/22/23 17:30:05 (fd:4) (pid:255) (D_HOSTNAME) COLLECTOR_HOST is set to \"cm-1.ospool.osg-htc.org, cm-2.ospool.osg-htc.org\"\n",
      "09/22/23 17:30:05 (fd:4) (pid:255) (D_DAEMONCORE) *** TIMEOUT_MULTIPLIER :: 0\n",
      "09/22/23 17:30:05 (fd:4) (pid:255) (D_HOSTNAME) Checking if cm-1.ospool.osg-htc.org is a sinful address\n",
      "09/22/23 17:30:05 (fd:4) (pid:255) (D_HOSTNAME) cm-1.ospool.osg-htc.org is not a sinful address: does not begin with \"<\"\n",
      "09/22/23 17:30:05 (fd:4) (pid:255) (D_HOSTNAME) New Daemon obj (collector) name: \"cm-1.ospool.osg-htc.org\", pool: \"NULL\", addr: \"NULL\"\n",
      "09/22/23 17:30:05 (fd:4) (pid:255) (D_HOSTNAME) Using name \"cm-1.ospool.osg-htc.org\" to find daemon\n",
      "09/22/23 17:30:05 (fd:4) (pid:255) (D_HOSTNAME) Port not specified, using default (9618)\n",
      "09/22/23 17:30:05 (fd:4) (pid:255) (D_HOSTNAME) Host info \"cm-1.ospool.osg-htc.org\" is a hostname, finding IP address\n",
      "09/22/23 17:30:05 (fd:4) (pid:255) (D_HOSTNAME) DNS returned:\n",
      "09/22/23 17:30:05 (fd:4) (pid:255) (D_HOSTNAME) \t128.104.103.187\n",
      "09/22/23 17:30:05 (fd:4) (pid:255) (D_HOSTNAME) We returned:\n",
      "09/22/23 17:30:05 (fd:4) (pid:255) (D_HOSTNAME) \t128.104.103.187\n",
      "09/22/23 17:30:05 (fd:4) (pid:255) (D_HOSTNAME) Found CM IP address and port <128.104.103.187:9618?alias=cm-1.ospool.osg-htc.org>\n",
      "09/22/23 17:30:05 (fd:4) (pid:255) (D_HOSTNAME) Daemon client (collector) address determined: name: \"cm-1.ospool.osg-htc.org\", pool: \"cm-1.ospool.osg-htc.org\", alias: \"cm-1.ospool.osg-htc.org\", addr: \"<128.104.103.187:9618?alias=cm-1.ospool.osg-htc.org>\"\n",
      "09/22/23 17:30:05 (fd:4) (pid:255) (D_DAEMONCORE) *** TIMEOUT_MULTIPLIER :: 0\n",
      "09/22/23 17:30:05 (fd:4) (pid:255) (D_HOSTNAME) Checking if cm-2.ospool.osg-htc.org is a sinful address\n",
      "09/22/23 17:30:05 (fd:4) (pid:255) (D_HOSTNAME) cm-2.ospool.osg-htc.org is not a sinful address: does not begin with \"<\"\n",
      "09/22/23 17:30:05 (fd:4) (pid:255) (D_HOSTNAME) New Daemon obj (collector) name: \"cm-2.ospool.osg-htc.org\", pool: \"NULL\", addr: \"NULL\"\n",
      "09/22/23 17:30:05 (fd:4) (pid:255) (D_HOSTNAME) Using name \"cm-2.ospool.osg-htc.org\" to find daemon\n",
      "09/22/23 17:30:05 (fd:4) (pid:255) (D_HOSTNAME) Port not specified, using default (9618)\n",
      "09/22/23 17:30:05 (fd:4) (pid:255) (D_HOSTNAME) Host info \"cm-2.ospool.osg-htc.org\" is a hostname, finding IP address\n",
      "09/22/23 17:30:05 (fd:4) (pid:255) (D_HOSTNAME) DNS returned:\n",
      "09/22/23 17:30:05 (fd:4) (pid:255) (D_HOSTNAME) \t192.170.231.10\n",
      "09/22/23 17:30:05 (fd:4) (pid:255) (D_HOSTNAME) We returned:\n",
      "09/22/23 17:30:05 (fd:4) (pid:255) (D_HOSTNAME) \t192.170.231.10\n",
      "09/22/23 17:30:05 (fd:4) (pid:255) (D_HOSTNAME) Found CM IP address and port <192.170.231.10:9618?alias=cm-2.ospool.osg-htc.org>\n",
      "09/22/23 17:30:05 (fd:4) (pid:255) (D_HOSTNAME) Daemon client (collector) address determined: name: \"cm-2.ospool.osg-htc.org\", pool: \"cm-2.ospool.osg-htc.org\", alias: \"cm-2.ospool.osg-htc.org\", addr: \"<192.170.231.10:9618?alias=cm-2.ospool.osg-htc.org>\"\n",
      "09/22/23 17:30:05 (fd:4) (pid:255) (D_DAEMONCORE) *** TIMEOUT_MULTIPLIER :: 0\n",
      "09/22/23 17:30:05 (fd:4) (pid:255) (D_HOSTNAME) Checking if <128.104.103.187:9618?alias=cm-1.ospool.osg-htc.org> is a sinful address\n",
      "09/22/23 17:30:05 (fd:4) (pid:255) (D_HOSTNAME) <128.104.103.187:9618?alias=cm-1.ospool.osg-htc.org> is a sinful address!\n",
      "09/22/23 17:30:05 (fd:4) (pid:255) (D_HOSTNAME) Daemon client (collector) address determined: name: \"NULL\", pool: \"NULL\", alias: \"cm-1.ospool.osg-htc.org\", addr: \"<128.104.103.187:9618?alias=cm-1.ospool.osg-htc.org>\"\n",
      "09/22/23 17:30:05 (fd:4) (pid:255) (D_HOSTNAME) New Daemon obj (collector) name: \"NULL\", pool: \"NULL\", addr: \"<128.104.103.187:9618?alias=cm-1.ospool.osg-htc.org>\"\n",
      "09/22/23 17:30:05 (fd:4) (pid:255) (D_HOSTNAME) Checking if <128.104.103.187:9618?alias=cm-1.ospool.osg-htc.org> is a sinful address\n",
      "09/22/23 17:30:05 (fd:4) (pid:255) (D_HOSTNAME) <128.104.103.187:9618?alias=cm-1.ospool.osg-htc.org> is a sinful address!\n",
      "09/22/23 17:30:05 (fd:4) (pid:255) (D_HOSTNAME) Checking if <128.104.103.187:9618?alias=cm-1.ospool.osg-htc.org> is a sinful address\n",
      "09/22/23 17:30:05 (fd:4) (pid:255) (D_HOSTNAME) <128.104.103.187:9618?alias=cm-1.ospool.osg-htc.org> is a sinful address!\n",
      "09/22/23 17:30:05 (fd:4) (pid:255) (D_HOSTNAME) Already have address, no info to locate\n",
      "09/22/23 17:30:05 (fd:4) (pid:255) (D_HOSTNAME) Address \"<128.104.103.187:9618?alias=cm-1.ospool.osg-htc.org>\" specified but no name, looking up host info\n",
      "09/22/23 17:30:05 (fd:4) (pid:255) (D_HOSTNAME) DNS returned:\n",
      "09/22/23 17:30:05 (fd:4) (pid:255) (D_HOSTNAME) \t10.99.57.35\n",
      "09/22/23 17:30:05 (fd:4) (pid:255) (D_HOSTNAME) We returned:\n",
      "09/22/23 17:30:05 (fd:4) (pid:255) (D_HOSTNAME) \t10.99.57.35\n",
      "09/22/23 17:30:05 (fd:4) (pid:255) (D_ALWAYS) WARNING: forward resolution of ospool-cm.osg.svc.cluster.local doesn't match 128.104.103.187!\n",
      "09/22/23 17:30:05 (fd:4) (pid:255) (D_HOSTNAME) get_full_hostname() failed for address 128.104.103.187\n",
      "09/22/23 17:30:05 (fd:4) (pid:255) (D_HOSTNAME) Querying collector <128.104.103.187:9618?alias=cm-1.ospool.osg-htc.org> ((null)) with classad:\n",
      "LimitResults = 1\n",
      "LocationQuery = \"ap40.uw.osg-htc.org\"\n",
      "MyType = \"Query\"\n",
      "Projection = \"CondorVersion CondorPlatform MyAddress AddressV1 Name Machine _condor_PrivRemoteAdminCapability ScheddIpAddr\"\n",
      "Requirements = ((Name == \"ap40.uw.osg-htc.org\"))\n",
      "TargetType = \"Scheduler\"\n",
      "09/22/23 17:30:05 (fd:4) (pid:255) (D_HOSTNAME)  --- End of Query ClassAd ---\n",
      "09/22/23 17:30:05 (fd:4) (pid:255) (D_COMMAND) Daemon::startCommand(QUERY_SCHEDD_ADS,...) making connection to <128.104.103.187:9618?alias=cm-1.ospool.osg-htc.org>\n",
      "09/22/23 17:30:05 (fd:4) (pid:255) (D_HOSTNAME) Guess address string for host = <128.104.103.187:9618?alias=cm-1.ospool.osg-htc.org>, port = 0\n",
      "09/22/23 17:30:05 (fd:4) (pid:255) (D_HOSTNAME) it was sinful string. ip = 128.104.103.187, port = 9618\n",
      "09/22/23 17:31:05 (fd:5) (pid:255) (D_ALWAYS) attempt to connect to <128.104.103.187:9618> failed: timed out after 60 seconds.\n",
      "09/22/23 17:31:05 (fd:5) (pid:255) (D_NETWORK) CLOSE TCP <10.129.189.107:42833> fd=4\n",
      "09/22/23 17:31:05 (fd:4) (pid:255) (D_HOSTNAME) Destroying Daemon object:\n",
      "09/22/23 17:31:05 (fd:4) (pid:255) (D_HOSTNAME) Type: 5 (collector), Name: (null), Addr: <128.104.103.187:9618?alias=cm-1.ospool.osg-htc.org>\n",
      "09/22/23 17:31:05 (fd:4) (pid:255) (D_HOSTNAME) FullHost: (null), Host: (null), Pool: (null), Port: 9618\n",
      "09/22/23 17:31:05 (fd:4) (pid:255) (D_HOSTNAME) IsLocal: N, IdStr: collector at <128.104.103.187:9618>, Error: can't find host info for <128.104.103.187:9618?alias=cm-1.ospool.osg-htc.org>\n",
      "09/22/23 17:31:05 (fd:4) (pid:255) (D_HOSTNAME)  --- End of Daemon object info ---\n",
      "09/22/23 17:31:05 (fd:4) (pid:255) (D_ALWAYS) Will avoid querying collector cm-1.ospool.osg-htc.org <128.104.103.187:9618?alias=cm-1.ospool.osg-htc.org> for 3540s if an alternative succeeds.\n",
      "09/22/23 17:31:05 (fd:4) (pid:255) (D_DAEMONCORE) *** TIMEOUT_MULTIPLIER :: 0\n",
      "09/22/23 17:31:05 (fd:4) (pid:255) (D_HOSTNAME) Checking if <192.170.231.10:9618?alias=cm-2.ospool.osg-htc.org> is a sinful address\n",
      "09/22/23 17:31:05 (fd:4) (pid:255) (D_HOSTNAME) <192.170.231.10:9618?alias=cm-2.ospool.osg-htc.org> is a sinful address!\n",
      "09/22/23 17:31:05 (fd:4) (pid:255) (D_HOSTNAME) Daemon client (collector) address determined: name: \"NULL\", pool: \"NULL\", alias: \"cm-2.ospool.osg-htc.org\", addr: \"<192.170.231.10:9618?alias=cm-2.ospool.osg-htc.org>\"\n",
      "09/22/23 17:31:05 (fd:4) (pid:255) (D_HOSTNAME) New Daemon obj (collector) name: \"NULL\", pool: \"NULL\", addr: \"<192.170.231.10:9618?alias=cm-2.ospool.osg-htc.org>\"\n",
      "09/22/23 17:31:05 (fd:4) (pid:255) (D_HOSTNAME) Checking if <192.170.231.10:9618?alias=cm-2.ospool.osg-htc.org> is a sinful address\n",
      "09/22/23 17:31:05 (fd:4) (pid:255) (D_HOSTNAME) <192.170.231.10:9618?alias=cm-2.ospool.osg-htc.org> is a sinful address!\n",
      "09/22/23 17:31:05 (fd:4) (pid:255) (D_HOSTNAME) Checking if <192.170.231.10:9618?alias=cm-2.ospool.osg-htc.org> is a sinful address\n",
      "09/22/23 17:31:05 (fd:4) (pid:255) (D_HOSTNAME) <192.170.231.10:9618?alias=cm-2.ospool.osg-htc.org> is a sinful address!\n",
      "09/22/23 17:31:05 (fd:4) (pid:255) (D_HOSTNAME) Already have address, no info to locate\n",
      "09/22/23 17:31:05 (fd:4) (pid:255) (D_HOSTNAME) Address \"<192.170.231.10:9618?alias=cm-2.ospool.osg-htc.org>\" specified but no name, looking up host info\n",
      "09/22/23 17:31:05 (fd:4) (pid:255) (D_HOSTNAME) get_full_hostname() failed for address 192.170.231.10\n",
      "09/22/23 17:31:05 (fd:4) (pid:255) (D_HOSTNAME) Querying collector <192.170.231.10:9618?alias=cm-2.ospool.osg-htc.org> ((null)) with classad:\n",
      "LimitResults = 1\n",
      "LocationQuery = \"ap40.uw.osg-htc.org\"\n",
      "MyType = \"Query\"\n",
      "Projection = \"CondorVersion CondorPlatform MyAddress AddressV1 Name Machine _condor_PrivRemoteAdminCapability ScheddIpAddr\"\n",
      "Requirements = ((Name == \"ap40.uw.osg-htc.org\"))\n",
      "TargetType = \"Scheduler\"\n",
      "09/22/23 17:31:05 (fd:4) (pid:255) (D_HOSTNAME)  --- End of Query ClassAd ---\n",
      "09/22/23 17:31:05 (fd:4) (pid:255) (D_COMMAND) Daemon::startCommand(QUERY_SCHEDD_ADS,...) making connection to <192.170.231.10:9618?alias=cm-2.ospool.osg-htc.org>\n",
      "09/22/23 17:31:05 (fd:4) (pid:255) (D_HOSTNAME) Guess address string for host = <192.170.231.10:9618?alias=cm-2.ospool.osg-htc.org>, port = 0\n",
      "09/22/23 17:31:05 (fd:4) (pid:255) (D_HOSTNAME) it was sinful string. ip = 192.170.231.10, port = 9618\n",
      "09/22/23 17:31:05 (fd:5) (pid:255) (D_NETWORK) CONNECT bound to <10.129.189.107:38959?alias=jupyter-eppn-3arllombardi-40wisc-2eedu> fd=4 peer=<192.170.231.10:9618>\n",
      "09/22/23 17:31:05 (fd:5) (pid:255) (D_SECURITY) IPVERIFY: Subsystem TOOL\n",
      "09/22/23 17:31:05 (fd:5) (pid:255) (D_SECURITY) IPVERIFY: Permission ALLOW\n",
      "09/22/23 17:31:05 (fd:5) (pid:255) (D_SECURITY) IPVERIFY: Subsystem TOOL\n",
      "09/22/23 17:31:05 (fd:5) (pid:255) (D_SECURITY) IPVERIFY: Permission READ\n",
      "09/22/23 17:31:05 (fd:5) (pid:255) (D_SECURITY) IPVERIFY: Subsystem TOOL\n",
      "09/22/23 17:31:05 (fd:5) (pid:255) (D_SECURITY) IPVERIFY: Permission WRITE\n",
      "09/22/23 17:31:05 (fd:5) (pid:255) (D_SECURITY) IPVERIFY: Subsystem TOOL\n",
      "09/22/23 17:31:05 (fd:5) (pid:255) (D_SECURITY) IPVERIFY: Permission NEGOTIATOR\n",
      "09/22/23 17:31:05 (fd:5) (pid:255) (D_SECURITY) ipverify: NEGOTIATOR optimized to deny everyone\n",
      "09/22/23 17:31:05 (fd:5) (pid:255) (D_SECURITY) IPVERIFY: Subsystem TOOL\n",
      "09/22/23 17:31:05 (fd:5) (pid:255) (D_SECURITY) IPVERIFY: Permission ADMINISTRATOR\n",
      "09/22/23 17:31:05 (fd:5) (pid:255) (D_SECURITY) ipverify: ADMINISTRATOR optimized to deny everyone\n",
      "09/22/23 17:31:05 (fd:5) (pid:255) (D_SECURITY) IPVERIFY: Subsystem TOOL\n",
      "09/22/23 17:31:05 (fd:5) (pid:255) (D_SECURITY) IPVERIFY: Permission CONFIG\n",
      "09/22/23 17:31:05 (fd:5) (pid:255) (D_SECURITY) ipverify: CONFIG optimized to deny everyone\n",
      "09/22/23 17:31:05 (fd:5) (pid:255) (D_SECURITY) IPVERIFY: Subsystem TOOL\n",
      "09/22/23 17:31:05 (fd:5) (pid:255) (D_SECURITY) IPVERIFY: Permission DAEMON\n",
      "09/22/23 17:31:05 (fd:5) (pid:255) (D_SECURITY) ipverify: DAEMON optimized to deny everyone\n",
      "09/22/23 17:31:05 (fd:5) (pid:255) (D_SECURITY) IPVERIFY: Subsystem TOOL\n",
      "09/22/23 17:31:05 (fd:5) (pid:255) (D_SECURITY) IPVERIFY: Permission SOAP\n",
      "09/22/23 17:31:05 (fd:5) (pid:255) (D_SECURITY) ipverify: SOAP optimized to deny everyone\n",
      "09/22/23 17:31:05 (fd:5) (pid:255) (D_SECURITY) IPVERIFY: Subsystem TOOL\n",
      "09/22/23 17:31:05 (fd:5) (pid:255) (D_SECURITY) IPVERIFY: Permission DEFAULT\n",
      "09/22/23 17:31:05 (fd:5) (pid:255) (D_SECURITY) ipverify: DEFAULT optimized to deny everyone\n",
      "09/22/23 17:31:05 (fd:5) (pid:255) (D_SECURITY) IPVERIFY: Subsystem TOOL\n",
      "09/22/23 17:31:05 (fd:5) (pid:255) (D_SECURITY) IPVERIFY: Permission CLIENT\n",
      "09/22/23 17:31:05 (fd:5) (pid:255) (D_SECURITY) IPVERIFY: allow CLIENT: * (from config value ALLOW_CLIENT)\n",
      "09/22/23 17:31:05 (fd:5) (pid:255) (D_SECURITY) ipverify: CLIENT optimized to allow anyone\n",
      "09/22/23 17:31:05 (fd:5) (pid:255) (D_SECURITY) IPVERIFY: Subsystem TOOL\n",
      "09/22/23 17:31:05 (fd:5) (pid:255) (D_SECURITY) IPVERIFY: Permission ADVERTISE_STARTD\n",
      "09/22/23 17:31:05 (fd:5) (pid:255) (D_SECURITY) ipverify: ADVERTISE_STARTD optimized to deny everyone\n",
      "09/22/23 17:31:05 (fd:5) (pid:255) (D_SECURITY) IPVERIFY: Subsystem TOOL\n",
      "09/22/23 17:31:05 (fd:5) (pid:255) (D_SECURITY) IPVERIFY: Permission ADVERTISE_SCHEDD\n",
      "09/22/23 17:31:05 (fd:5) (pid:255) (D_SECURITY) ipverify: ADVERTISE_SCHEDD optimized to deny everyone\n",
      "09/22/23 17:31:05 (fd:5) (pid:255) (D_SECURITY) IPVERIFY: Subsystem TOOL\n",
      "09/22/23 17:31:05 (fd:5) (pid:255) (D_SECURITY) IPVERIFY: Permission ADVERTISE_MASTER\n",
      "09/22/23 17:31:05 (fd:5) (pid:255) (D_SECURITY) ipverify: ADVERTISE_MASTER optimized to deny everyone\n",
      "09/22/23 17:31:05 (fd:5) (pid:255) (D_SECURITY) SECMAN: command 6 QUERY_SCHEDD_ADS to collector at <192.170.231.10:9618> from TCP port 38959 (blocking).\n",
      "09/22/23 17:31:05 (fd:5) (pid:255) (D_PRIV) PRIV_UNKNOWN --> PRIV_ROOT at ./src/condor_includes/condor_uid.h:167\n",
      "09/22/23 17:31:05 (fd:5) (pid:255) (D_SECURITY) Failed to determine available TOKEN keys: CRED:1:Cannot open /etc/condor/passwords.d: No such file or directory (errno=2)\n",
      "09/22/23 17:31:05 (fd:5) (pid:255) (D_SECURITY) Inserting pre-auth metadata for TOKEN.\n",
      "09/22/23 17:31:05 (fd:5) (pid:255) (D_SECURITY) Failed to determine available TOKEN keys: CRED:1:Cannot open /etc/condor/passwords.d: No such file or directory (errno=2)\n",
      "09/22/23 17:31:05 (fd:5) (pid:255) (D_NETWORK) Send Header contents: 01 00 00 02 b4\n",
      "09/22/23 17:31:05 (fd:5) (pid:255) (D_NETWORK) AESGCM: Send digest added 5 + 692 bytes \n",
      "09/22/23 17:31:05 (fd:5) (pid:255) (D_NETWORK) condor_write(fd=4 collector at <192.170.231.10:9618>,,size=697,timeout=60,flags=0,non_blocking=0)\n",
      "09/22/23 17:31:05 (fd:5) (pid:255) (D_NETWORK) condor_read(fd=4 collector at <192.170.231.10:9618>,,size=5,timeout=60,flags=0,non_blocking=0)\n",
      "09/22/23 17:31:05 (fd:5) (pid:255) (D_NETWORK) condor_read(fd=4 collector at <192.170.231.10:9618>,,size=433,timeout=60,flags=0,non_blocking=0)\n",
      "09/22/23 17:31:05 (fd:5) (pid:255) (D_NETWORK) condor_read(fd=4 collector at <192.170.231.10:9618>,,size=5,timeout=60,flags=0,non_blocking=0)\n",
      "09/22/23 17:31:05 (fd:5) (pid:255) (D_NETWORK) condor_read(fd=4 collector at <192.170.231.10:9618>,,size=179,timeout=60,flags=0,non_blocking=0)\n",
      "09/22/23 17:31:05 (fd:5) (pid:255) (D_SECURITY) SECMAN: added session cm-2:182:1695403865:21245 to cache for 60 seconds (3600s lease).\n",
      "09/22/23 17:31:05 (fd:5) (pid:255) (D_SECURITY) SECMAN: startCommand succeeded.\n",
      "09/22/23 17:31:05 (fd:5) (pid:255) (D_NETWORK) Send Header contents: 01 00 00 01 18\n",
      "09/22/23 17:31:05 (fd:5) (pid:255) (D_NETWORK) AESGCM: Send digest added 5 + 280 bytes \n",
      "09/22/23 17:31:05 (fd:5) (pid:255) (D_NETWORK) condor_write(fd=4 collector at <192.170.231.10:9618>,,size=285,timeout=60,flags=0,non_blocking=0)\n",
      "09/22/23 17:31:05 (fd:5) (pid:255) (D_NETWORK) condor_read(fd=4 collector at <192.170.231.10:9618>,,size=5,timeout=60,flags=0,non_blocking=0)\n",
      "09/22/23 17:31:05 (fd:5) (pid:255) (D_NETWORK) condor_read(fd=4 collector at <192.170.231.10:9618>,,size=1024,timeout=60,flags=0,non_blocking=0)\n",
      "09/22/23 17:31:05 (fd:5) (pid:255) (D_NETWORK) CLOSE TCP <10.129.189.107:38959> fd=4\n",
      "09/22/23 17:31:05 (fd:4) (pid:255) (D_HOSTNAME) Destroying Daemon object:\n",
      "09/22/23 17:31:05 (fd:4) (pid:255) (D_HOSTNAME) Type: 5 (collector), Name: (null), Addr: <192.170.231.10:9618?alias=cm-2.ospool.osg-htc.org>\n",
      "09/22/23 17:31:05 (fd:4) (pid:255) (D_HOSTNAME) FullHost: (null), Host: (null), Pool: (null), Port: 9618\n",
      "09/22/23 17:31:05 (fd:4) (pid:255) (D_HOSTNAME) IsLocal: N, IdStr: collector at <192.170.231.10:9618>, Error: can't find host info for <192.170.231.10:9618?alias=cm-2.ospool.osg-htc.org>\n",
      "09/22/23 17:31:05 (fd:4) (pid:255) (D_HOSTNAME)  --- End of Daemon object info ---\n",
      "09/22/23 17:31:05 (fd:4) (pid:255) (D_HOSTNAME) Destroying Daemon object:\n",
      "09/22/23 17:31:05 (fd:4) (pid:255) (D_HOSTNAME) Type: 5 (collector), Name: cm-1.ospool.osg-htc.org, Addr: <128.104.103.187:9618?alias=cm-1.ospool.osg-htc.org>\n",
      "09/22/23 17:31:05 (fd:4) (pid:255) (D_HOSTNAME) FullHost: ospool-cm.osg.chtc.io, Host: ospool-cm, Pool: cm-1.ospool.osg-htc.org, Port: 9618\n",
      "09/22/23 17:31:05 (fd:4) (pid:255) (D_HOSTNAME) IsLocal: N, IdStr: (null), Error: (null)\n",
      "09/22/23 17:31:05 (fd:4) (pid:255) (D_HOSTNAME)  --- End of Daemon object info ---\n",
      "09/22/23 17:31:05 (fd:4) (pid:255) (D_HOSTNAME) Destroying Daemon object:\n",
      "09/22/23 17:31:05 (fd:4) (pid:255) (D_HOSTNAME) Type: 5 (collector), Name: cm-2.ospool.osg-htc.org, Addr: <192.170.231.10:9618?alias=cm-2.ospool.osg-htc.org>\n",
      "09/22/23 17:31:05 (fd:4) (pid:255) (D_HOSTNAME) FullHost: ospool-cm.osgprod.tempest.chtc.io, Host: ospool-cm, Pool: cm-2.ospool.osg-htc.org, Port: 9618\n",
      "09/22/23 17:31:05 (fd:4) (pid:255) (D_HOSTNAME) IsLocal: N, IdStr: (null), Error: (null)\n",
      "09/22/23 17:31:05 (fd:4) (pid:255) (D_HOSTNAME)  --- End of Daemon object info ---\n",
      "09/22/23 17:31:05 (fd:4) (pid:255) (D_HOSTNAME) Found Name in ClassAd, using \"ap40.uw.osg-htc.org\"\n",
      "09/22/23 17:31:05 (fd:4) (pid:255) (D_HOSTNAME) Daemon client (schedd) address determined: name: \"ap40.uw.osg-htc.org\", pool: \"NULL\", alias: \"ap40.uw.osg-htc.org\", addr: \"<128.105.68.92:9618?addrs=128.105.68.92-9618+[2607-f388-2200-100-eaeb-d3ff-fe40-111c]-9618&alias=ap40.uw.osg-htc.org&noUDP&sock=schedd_538872_f2f3>\"\n",
      "09/22/23 17:31:05 (fd:4) (pid:255) (D_HOSTNAME) Found SCHEDDIpAddr in ClassAd, using \"<128.105.68.92:9618?addrs=128.105.68.92-9618+[2607-f388-2200-100-eaeb-d3ff-fe40-111c]-9618&alias=ap40.uw.osg-htc.org&noUDP&sock=schedd_538872_f2f3>\"\n",
      "09/22/23 17:31:05 (fd:4) (pid:255) (D_HOSTNAME) Found CondorVersion in ClassAd, using \"$CondorVersion: 10.8.0 2023-08-21 BuildID: 671995 PackageID: 10.8.0-0.671995 RC $\"\n",
      "09/22/23 17:31:05 (fd:4) (pid:255) (D_HOSTNAME) Found CondorPlatform in ClassAd, using \"$CondorPlatform: x86_64_AlmaLinux8 $\"\n",
      "09/22/23 17:31:05 (fd:4) (pid:255) (D_HOSTNAME) Found Machine in ClassAd, using \"ap40.uw.osg-htc.org\"\n",
      "09/22/23 17:31:05 (fd:4) (pid:255) (D_HOSTNAME) Found CondorVersion in ClassAd, using \"$CondorVersion: 10.8.0 2023-08-21 BuildID: 671995 PackageID: 10.8.0-0.671995 RC $\"\n",
      "09/22/23 17:31:05 (fd:4) (pid:255) (D_HOSTNAME) Found CondorPlatform in ClassAd, using \"$CondorPlatform: x86_64_AlmaLinux8 $\"\n",
      "09/22/23 17:31:05 (fd:4) (pid:255) (D_HOSTNAME) Checking if <128.105.68.92:9618?addrs=128.105.68.92-9618+[2607-f388-2200-100-eaeb-d3ff-fe40-111c]-9618&alias=ap40.uw.osg-htc.org&noUDP&sock=schedd_538872_f2f3> is a sinful address\n",
      "09/22/23 17:31:05 (fd:4) (pid:255) (D_HOSTNAME) <128.105.68.92:9618?addrs=128.105.68.92-9618+[2607-f388-2200-100-eaeb-d3ff-fe40-111c]-9618&alias=ap40.uw.osg-htc.org&noUDP&sock=schedd_538872_f2f3> is a sinful address!\n",
      "09/22/23 17:31:05 (fd:4) (pid:255) (D_HOSTNAME) Using port 9618 based on address \"<128.105.68.92:9618?addrs=128.105.68.92-9618+[2607-f388-2200-100-eaeb-d3ff-fe40-111c]-9618&alias=ap40.uw.osg-htc.org&noUDP&sock=schedd_538872_f2f3>\"\n",
      "09/22/23 17:31:05 (fd:4) (pid:255) (D_DAEMONCORE) *** TIMEOUT_MULTIPLIER :: 0\n",
      "09/22/23 17:31:05 (fd:4) (pid:255) (D_HOSTNAME) Checking if <128.105.68.92:9618?addrs=128.105.68.92-9618+[2607-f388-2200-100-eaeb-d3ff-fe40-111c]-9618&alias=ap40.uw.osg-htc.org&noUDP&sock=schedd_538872_f2f3> is a sinful address\n",
      "09/22/23 17:31:05 (fd:4) (pid:255) (D_HOSTNAME) <128.105.68.92:9618?addrs=128.105.68.92-9618+[2607-f388-2200-100-eaeb-d3ff-fe40-111c]-9618&alias=ap40.uw.osg-htc.org&noUDP&sock=schedd_538872_f2f3> is a sinful address!\n",
      "09/22/23 17:31:05 (fd:4) (pid:255) (D_HOSTNAME) Daemon client (schedd) address determined: name: \"NULL\", pool: \"NULL\", alias: \"ap40.uw.osg-htc.org\", addr: \"<128.105.68.92:9618?addrs=128.105.68.92-9618+[2607-f388-2200-100-eaeb-d3ff-fe40-111c]-9618&alias=ap40.uw.osg-htc.org&noUDP&sock=schedd_538872_f2f3>\"\n",
      "09/22/23 17:31:05 (fd:4) (pid:255) (D_HOSTNAME) New Daemon obj (schedd) name: \"NULL\", pool: \"NULL\", addr: \"<128.105.68.92:9618?addrs=128.105.68.92-9618+[2607-f388-2200-100-eaeb-d3ff-fe40-111c]-9618&alias=ap40.uw.osg-htc.org&noUDP&sock=schedd_538872_f2f3>\"\n",
      "09/22/23 17:31:05 (fd:4) (pid:255) (D_COMMAND) Daemon::startCommand(QUERY_JOB_ADS,...) making connection to <128.105.68.92:9618?addrs=128.105.68.92-9618+[2607-f388-2200-100-eaeb-d3ff-fe40-111c]-9618&alias=ap40.uw.osg-htc.org&noUDP&sock=schedd_538872_f2f3>\n",
      "09/22/23 17:31:05 (fd:4) (pid:255) (D_HOSTNAME) Checking if <128.105.68.92:9618?addrs=128.105.68.92-9618+[2607-f388-2200-100-eaeb-d3ff-fe40-111c]-9618&alias=ap40.uw.osg-htc.org&noUDP&sock=schedd_538872_f2f3> is a sinful address\n",
      "09/22/23 17:31:05 (fd:4) (pid:255) (D_HOSTNAME) <128.105.68.92:9618?addrs=128.105.68.92-9618+[2607-f388-2200-100-eaeb-d3ff-fe40-111c]-9618&alias=ap40.uw.osg-htc.org&noUDP&sock=schedd_538872_f2f3> is a sinful address!\n",
      "09/22/23 17:31:05 (fd:4) (pid:255) (D_HOSTNAME) Already have address, no info to locate\n",
      "09/22/23 17:31:05 (fd:4) (pid:255) (D_HOSTNAME) Checking if <128.105.68.92:9618?addrs=128.105.68.92-9618+[2607-f388-2200-100-eaeb-d3ff-fe40-111c]-9618&alias=ap40.uw.osg-htc.org&noUDP&sock=schedd_538872_f2f3> is a sinful address\n",
      "09/22/23 17:31:05 (fd:4) (pid:255) (D_HOSTNAME) <128.105.68.92:9618?addrs=128.105.68.92-9618+[2607-f388-2200-100-eaeb-d3ff-fe40-111c]-9618&alias=ap40.uw.osg-htc.org&noUDP&sock=schedd_538872_f2f3> is a sinful address!\n",
      "09/22/23 17:31:05 (fd:4) (pid:255) (D_HOSTNAME) Using port 9618 based on address \"<128.105.68.92:9618?addrs=128.105.68.92-9618+[2607-f388-2200-100-eaeb-d3ff-fe40-111c]-9618&alias=ap40.uw.osg-htc.org&noUDP&sock=schedd_538872_f2f3>\"\n",
      "09/22/23 17:31:05 (fd:4) (pid:255) (D_HOSTNAME) Found address 2 candidates:\n",
      "09/22/23 17:31:05 (fd:4) (pid:255) (D_HOSTNAME) \t-510\t128.105.68.92:9618\n",
      "09/22/23 17:31:05 (fd:4) (pid:255) (D_HOSTNAME) \t-500\t[2607:f388:2200:100:eaeb:d3ff:fe40:111c]:9618\n",
      "09/22/23 17:31:05 (fd:4) (pid:255) (D_HOSTNAME) Considering address candidate 128.105.68.92:9618.\n",
      "09/22/23 17:31:05 (fd:4) (pid:255) (D_HOSTNAME) Found compatible candidate 128.105.68.92:9618.\n",
      "09/22/23 17:31:05 (fd:5) (pid:255) (D_NETWORK) CONNECT bound to <10.129.189.107:44837?alias=jupyter-eppn-3arllombardi-40wisc-2eedu> fd=4 peer=<128.105.68.92:9618>\n",
      "09/22/23 17:31:05 (fd:5) (pid:255) (D_NETWORK) Send Header contents: 01 00 00 00 30\n",
      "09/22/23 17:31:05 (fd:5) (pid:255) (D_NETWORK) AESGCM: Send digest added 5 + 48 bytes \n",
      "09/22/23 17:31:05 (fd:5) (pid:255) (D_NETWORK) condor_write(fd=4 schedd at <128.105.68.92:9618>,,size=53,timeout=20,flags=0,non_blocking=0)\n",
      "09/22/23 17:31:05 (fd:5) (pid:255) (D_NETWORK) Reset Header MD.\n",
      "09/22/23 17:31:05 (fd:5) (pid:255) (D_SECURITY) SECMAN: command 516 QUERY_JOB_ADS to schedd at <128.105.68.92:9618> from TCP port 44837 (blocking).\n",
      "09/22/23 17:31:05 (fd:5) (pid:255) (D_SECURITY) Failed to determine available TOKEN keys: CRED:1:Cannot open /etc/condor/passwords.d: No such file or directory (errno=2)\n",
      "09/22/23 17:31:05 (fd:5) (pid:255) (D_SECURITY) Inserting pre-auth metadata for TOKEN.\n",
      "09/22/23 17:31:05 (fd:5) (pid:255) (D_SECURITY) Failed to determine available TOKEN keys: CRED:1:Cannot open /etc/condor/passwords.d: No such file or directory (errno=2)\n",
      "09/22/23 17:31:05 (fd:5) (pid:255) (D_NETWORK) Send Header contents: 01 00 00 03 16\n",
      "09/22/23 17:31:05 (fd:5) (pid:255) (D_NETWORK) AESGCM: Send digest added 5 + 790 bytes \n",
      "09/22/23 17:31:05 (fd:5) (pid:255) (D_NETWORK) condor_write(fd=4 schedd at <128.105.68.92:9618>,,size=795,timeout=20,flags=0,non_blocking=0)\n",
      "09/22/23 17:31:05 (fd:5) (pid:255) (D_NETWORK) condor_read(fd=4 schedd at <128.105.68.92:9618>,,size=5,timeout=20,flags=0,non_blocking=0)\n",
      "09/22/23 17:31:05 (fd:5) (pid:255) (D_NETWORK) condor_read(fd=4 schedd at <128.105.68.92:9618>,,size=518,timeout=20,flags=0,non_blocking=0)\n",
      "09/22/23 17:31:05 (fd:5) (pid:255) (D_NETWORK) condor_read(fd=4 schedd at <128.105.68.92:9618>,,size=5,timeout=20,flags=0,non_blocking=0)\n",
      "09/22/23 17:31:05 (fd:5) (pid:255) (D_NETWORK) condor_read(fd=4 schedd at <128.105.68.92:9618>,,size=170,timeout=20,flags=0,non_blocking=0)\n",
      "09/22/23 17:31:05 (fd:5) (pid:255) (D_SECURITY) SECMAN: added session ap40:538940:1695403865:113760 to cache for 60 seconds (3600s lease).\n",
      "09/22/23 17:31:05 (fd:5) (pid:255) (D_SECURITY) SECMAN: startCommand succeeded.\n",
      "09/22/23 17:31:05 (fd:5) (pid:255) (D_NETWORK) Send Header contents: 01 00 00 01 73\n",
      "09/22/23 17:31:05 (fd:5) (pid:255) (D_NETWORK) AESGCM: Send digest added 5 + 371 bytes \n",
      "09/22/23 17:31:05 (fd:5) (pid:255) (D_NETWORK) condor_write(fd=4 schedd at <128.105.68.92:9618>,,size=376,timeout=20,flags=0,non_blocking=0)\n",
      "09/22/23 17:31:05 (fd:5) (pid:255) (D_NETWORK) condor_read(fd=4 schedd at <128.105.68.92:9618>,,size=5,timeout=20,flags=0,non_blocking=0)\n",
      "09/22/23 17:31:05 (fd:5) (pid:255) (D_NETWORK) condor_read(fd=4 schedd at <128.105.68.92:9618>,,size=586,timeout=20,flags=0,non_blocking=0)\n",
      "09/22/23 17:31:05 (fd:5) (pid:255) (D_NETWORK) CLOSE TCP <10.129.189.107:44837> fd=4\n",
      "09/22/23 17:31:05 (fd:4) (pid:255) (D_HOSTNAME) Destroying Daemon object:\n",
      "09/22/23 17:31:05 (fd:4) (pid:255) (D_HOSTNAME) Type: 3 (schedd), Name: (null), Addr: <128.105.68.92:9618?addrs=128.105.68.92-9618+[2607-f388-2200-100-eaeb-d3ff-fe40-111c]-9618&alias=ap40.uw.osg-htc.org&noUDP&sock=schedd_538872_f2f3>\n",
      "09/22/23 17:31:05 (fd:4) (pid:255) (D_HOSTNAME) FullHost: (null), Host: (null), Pool: (null), Port: 9618\n",
      "09/22/23 17:31:05 (fd:4) (pid:255) (D_HOSTNAME) IsLocal: N, IdStr: schedd at <128.105.68.92:9618>, Error: (null)\n",
      "09/22/23 17:31:05 (fd:4) (pid:255) (D_HOSTNAME)  --- End of Daemon object info ---\n",
      "\n",
      "\n",
      "-- Schedd: ap40.uw.osg-htc.org : <128.105.68.92:9618?... @ 09/22/23 17:31:05\n",
      "OWNER BATCH_NAME      SUBMITTED   DONE   RUN    IDLE   HOLD  TOTAL JOB_IDS\n",
      "\n",
      "Total for query: 0 jobs; 0 completed, 0 removed, 0 idle, 0 running, 0 held, 0 suspended \n",
      "Total for all users: 1453 jobs; 0 completed, 0 removed, 25 idle, 145 running, 1283 held, 0 suspended\n",
      "\n"
     ]
    }
   ],
   "source": []
  }
 ],
 "metadata": {
  "kernelspec": {
   "display_name": "Bash",
   "language": "bash",
   "name": "bash"
  },
  "language_info": {
   "codemirror_mode": "shell",
   "file_extension": ".sh",
   "mimetype": "text/x-sh",
   "name": "bash"
  }
 },
 "nbformat": 4,
 "nbformat_minor": 5
}
