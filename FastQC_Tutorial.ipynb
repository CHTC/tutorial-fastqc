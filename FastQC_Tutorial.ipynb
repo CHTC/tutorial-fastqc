{
 "cells": [
  {
   "cell_type": "markdown",
   "id": "41e65a75-97f1-4e07-af19-5ca78710ebe7",
   "metadata": {},
   "source": [
    "# Bioinformatics Tutorial: Quality Assessment of Data with FastQC"
   ]
  },
  {
   "cell_type": "markdown",
   "id": "969f3be9-db7b-45b7-8273-dea8a251f831",
   "metadata": {},
   "source": [
    "The first step of most biofinformatic analyses is to assess the quality of the data you have recieved. In this example, we are working with real DNA sequencing data from a research project studying E. coli. We will use a common software, [FastQC](https://www.bioinformatics.babraham.ac.uk/projects/fastqc/), to assess the quality of the data.  "
   ]
  },
  {
   "cell_type": "markdown",
   "id": "ea7c0d20-fd49-4c6f-a176-c10aaee7ebb3",
   "metadata": {},
   "source": [
    "Before we start, let us make sure we are in out `tutorial-fastqc` directory by printing our working directory:"
   ]
  },
  {
   "cell_type": "code",
   "execution_count": null,
   "id": "67f2e094-3d74-4b7a-a896-f2ac6fcc75fd",
   "metadata": {},
   "outputs": [],
   "source": [
    "cd ~/tutorial-fastqc"
   ]
  },
  {
   "cell_type": "code",
   "execution_count": null,
   "id": "c58d6939-ccd7-4d2f-8a72-9722f903a226",
   "metadata": {},
   "outputs": [],
   "source": [
    "pwd"
   ]
  },
  {
   "cell_type": "markdown",
   "id": "e046c65d-e9b6-4cd2-ae51-74e046670bc7",
   "metadata": {},
   "source": [
    "We should see `/home/<username>/tutorial-fastqc`."
   ]
  },
  {
   "cell_type": "markdown",
   "id": "4726e3e1-1bc5-434e-a2b4-29d7385fdca7",
   "metadata": {},
   "source": [
    "## Step 1: Download data"
   ]
  },
  {
   "cell_type": "markdown",
   "id": "830ee656-1211-406c-a9cc-335ea4d7fc99",
   "metadata": {},
   "source": [
    "First, we need to download our sequencing data to that we want to analyze for our research project. For this tutorial, we will be downloading data used in the Data Carpentry workshop. This data includes both the genome of Escherichia coli (E. coli) and paired-end RNA sequencing reads obtained from a study carried out by Blount et al. published in [PNAS](http://www.pnas.org/content/105/23/7899). Additional information about how the data was modified in preparation for this analysis can be found on the [Data Carpentry's workshop website](https://datacarpentry.org/wrangling-genomics/aio.html)."
   ]
  },
  {
   "cell_type": "markdown",
   "id": "261d67db-cbdc-4791-95c5-740736694129",
   "metadata": {},
   "source": [
    "We have a script called `download_data.sh` that will download our bioinformatic data. Let's go ahead and run this script to download our data. "
   ]
  },
  {
   "cell_type": "code",
   "execution_count": null,
   "id": "fb497641-ba23-47d1-91f5-2988c1318454",
   "metadata": {},
   "outputs": [],
   "source": [
    "./download_data.sh"
   ]
  },
  {
   "cell_type": "markdown",
   "id": "ef5da90b-88a6-4ef9-97af-3af4726ca80d",
   "metadata": {},
   "source": [
    "Our sequencing data files, all ending in .fastq, can now be found in a folder called /data. "
   ]
  },
  {
   "cell_type": "markdown",
   "id": "500f3689-cc56-4c4d-a226-4a0f65a0bad7",
   "metadata": {},
   "source": [
    "## Step 2: Prepare software"
   ]
  },
  {
   "cell_type": "markdown",
   "id": "77f1974b-4ff1-489c-b590-bc5c15c476ee",
   "metadata": {},
   "source": [
    "Now that we have our data, we need to install the software we want to use to analyze it. "
   ]
  },
  {
   "cell_type": "markdown",
   "id": "3af8852d-2d19-4c38-a365-598f976aa457",
   "metadata": {},
   "source": [
    "There are different ways to install and use software, including installing from source, using pre-compiled binaries, and containers. In the biology domains, many software packages are already available as pre-built containers. We can fetch one of these containers and have HTCondor set it up for our job, which means we do not have to install the FastQC software or it's dependencies. "
   ]
  },
  {
   "cell_type": "markdown",
   "id": "2a586317-cf1d-4b33-bd24-be8b59165cd3",
   "metadata": {},
   "source": [
    "We will use a Docker container built by the State Public Health Bioinformatics Community (staphb), and convert it to an apptainer container by creating an apptainer definition file: "
   ]
  },
  {
   "cell_type": "code",
   "execution_count": null,
   "id": "53d23304-daf6-4d46-a541-ad15e38af901",
   "metadata": {},
   "outputs": [],
   "source": [
    "ls software/"
   ]
  },
  {
   "cell_type": "code",
   "execution_count": null,
   "id": "a9c98789-bb0b-47a8-969b-571201ee4b8b",
   "metadata": {},
   "outputs": [],
   "source": [
    "cat software/fastqc.def"
   ]
  },
  {
   "cell_type": "markdown",
   "id": "d2da55a4-9654-42ca-ba67-d05b834ebe65",
   "metadata": {},
   "source": [
    "And then running a command to build an apptainer container (which we won't run, but is listed here for future reference): \n",
    "`$ apptainer build fastqc.sif software/fastqc.def`"
   ]
  },
  {
   "cell_type": "markdown",
   "id": "d16bda24-1077-4de8-a44a-1a146909c909",
   "metadata": {},
   "source": [
    "Instead, we will download our ready-to-go apptainer .sif file:"
   ]
  },
  {
   "cell_type": "code",
   "execution_count": null,
   "id": "4374d1de-b4ca-4530-9046-3099f6d2b9c7",
   "metadata": {},
   "outputs": [],
   "source": [
    "./download_software.sh"
   ]
  },
  {
   "cell_type": "code",
   "execution_count": null,
   "id": "c1e9b699-d109-4e60-8910-35b460def411",
   "metadata": {},
   "outputs": [],
   "source": [
    "ls software/"
   ]
  },
  {
   "cell_type": "markdown",
   "id": "74842924-aec4-478c-820a-5951f70dc639",
   "metadata": {
    "tags": []
   },
   "source": [
    "## Step 3: Prepare an Executable"
   ]
  },
  {
   "cell_type": "markdown",
   "id": "24b7eebd-e66c-46be-9625-8036886c8833",
   "metadata": {},
   "source": [
    "We need to create an executable to pass to our HTCondor jobs, so that HTCondor knows what to run on our behalf. "
   ]
  },
  {
   "cell_type": "markdown",
   "id": "56842c2b-f568-4bd6-b61d-3798c0ca505c",
   "metadata": {},
   "source": [
    "Let's take a look at our executable, `fastqc.sh`:"
   ]
  },
  {
   "cell_type": "code",
   "execution_count": null,
   "id": "23586ee2-276d-4fc0-985d-ae0a4039f37f",
   "metadata": {},
   "outputs": [],
   "source": [
    "cat fastqc.sh"
   ]
  },
  {
   "cell_type": "markdown",
   "id": "c73c3efe-307b-4f1d-8777-5570134f1ea7",
   "metadata": {},
   "source": [
    "# Step 4: Prepare HTCondor Submit File to Run One Job"
   ]
  },
  {
   "cell_type": "markdown",
   "id": "5cbf9809-97d3-414e-ad25-2af00752fb81",
   "metadata": {},
   "source": [
    "Now we create our HTCondor submit file, which tells HTCondor what to run and how many resources to make available to our job:"
   ]
  },
  {
   "cell_type": "code",
   "execution_count": null,
   "id": "981828ad-11a7-4474-9624-1f0477ceeeea",
   "metadata": {},
   "outputs": [],
   "source": [
    "cat fastqc.submit"
   ]
  },
  {
   "cell_type": "markdown",
   "id": "ad612650-88f2-408e-8e5d-9ca519222245",
   "metadata": {},
   "source": [
    "## Step 5: Submit One HTCondor Job and Check Results"
   ]
  },
  {
   "cell_type": "markdown",
   "id": "e0c4d313-36bb-4a9f-a3f9-c39e641b87ea",
   "metadata": {},
   "source": [
    "We are ready to submit our first job!"
   ]
  },
  {
   "cell_type": "code",
   "execution_count": null,
   "id": "d3086105-166b-425e-8b54-798d0c25dac3",
   "metadata": {},
   "outputs": [],
   "source": [
    "condor_submit fastqc.submit"
   ]
  },
  {
   "cell_type": "markdown",
   "id": "cabc97a4-914d-4762-8c0e-3b006c31b2e8",
   "metadata": {},
   "source": [
    "We can check on the status of our job in HTCondor's queue using:"
   ]
  },
  {
   "cell_type": "code",
   "execution_count": null,
   "id": "e5f6568f-b4ce-412b-ac35-278fd3ae5bc5",
   "metadata": {},
   "outputs": [],
   "source": [
    "condor_q"
   ]
  },
  {
   "cell_type": "markdown",
   "id": "d22afce6-08d1-479e-b0b4-5c2f00551462",
   "metadata": {},
   "source": [
    "By using transfer_output_remaps in our submit file, we told HTCondor to store our FastQC output files in the results directory. Let's take a look at our scientific results:"
   ]
  },
  {
   "cell_type": "code",
   "execution_count": null,
   "id": "e99f9029-2423-4d56-bf80-9f298ecf167e",
   "metadata": {},
   "outputs": [],
   "source": [
    "ls results/"
   ]
  },
  {
   "cell_type": "markdown",
   "id": "d93ef450-bc02-49a4-9a64-fc65dc834f1d",
   "metadata": {},
   "source": [
    "It's always good practice to look at our standard error, standard out, and HTCondor log files to catch unexpected output:"
   ]
  },
  {
   "cell_type": "code",
   "execution_count": null,
   "id": "eec99d85-a465-440f-a1c6-03cb502c6aa1",
   "metadata": {},
   "outputs": [],
   "source": [
    "ls logs/"
   ]
  },
  {
   "cell_type": "markdown",
   "id": "e3b02cd2-3a55-4123-8086-afb2d582f984",
   "metadata": {},
   "source": [
    "## Step 5: Scale Out Your Analysis"
   ]
  },
  {
   "cell_type": "markdown",
   "id": "470e4414-c809-4ec9-932c-48de12e31403",
   "metadata": {},
   "source": [
    "### Create A List of All Files We Want Analyzed"
   ]
  },
  {
   "cell_type": "markdown",
   "id": "c9407a7b-e81c-4e53-b181-e64e0ecfded3",
   "metadata": {},
   "source": [
    "To queue a job to analyze each of our sequencing data files, we will take advantage of HTCondor's `queue` statement. First, let's create a list of files we want analyzed:"
   ]
  },
  {
   "cell_type": "code",
   "execution_count": null,
   "id": "28155434-10f8-43d3-8179-3896a5058ae0",
   "metadata": {},
   "outputs": [],
   "source": [
    "ls data/ | cut -f1 -d \".\" > list_of_samples.txt"
   ]
  },
  {
   "cell_type": "markdown",
   "id": "778a71af-1a9b-4b73-826c-2486764bd962",
   "metadata": {},
   "source": [
    "Let us take a look at the contents of this file: "
   ]
  },
  {
   "cell_type": "code",
   "execution_count": null,
   "id": "efc5fa3a-c752-4891-a002-7dc8dddd92ea",
   "metadata": {},
   "outputs": [],
   "source": [
    "cat list_of_samples.txt"
   ]
  },
  {
   "cell_type": "markdown",
   "id": "20b56c58-5593-4c04-b51d-e2799915b22b",
   "metadata": {},
   "source": [
    "Edits the Submit File to Queue a Job to Analyze Each Biological Sample"
   ]
  },
  {
   "cell_type": "markdown",
   "id": "1584dc02-9af9-4b6d-87fb-6cf08c764752",
   "metadata": {},
   "source": [
    "HTCondor has different `queue` syntaxes to help researchers automatically queue many jobs. We will use `queue <variable> from <list.txt>` to queue a job for each of of our samples in `list_of_samples.txt`. "
   ]
  },
  {
   "cell_type": "markdown",
   "id": "72a6afb7-7fae-4e71-ad6a-e6f55650ffd9",
   "metadata": {},
   "source": [
    "Once we define `<variable>`, we can also use it elsewhere in the submit file. "
   ]
  },
  {
   "cell_type": "markdown",
   "id": "2b9d8f30-69ea-499d-bf2a-4ddd81b12565",
   "metadata": {},
   "source": [
    "Let's replace each occurence of the sample identifier with the `$(sample)` variable, and then iterating through our list of samples as shown in `list_of_samples.txt`."
   ]
  },
  {
   "cell_type": "code",
   "execution_count": 1,
   "id": "38dc83dd-f515-40a9-be7d-6b9353de0ac0",
   "metadata": {},
   "outputs": [
    {
     "name": "stdout",
     "output_type": "stream",
     "text": [
      "# HTCondor Submit File: fastqc.submit\n",
      "\n",
      "# Provide our executable and arguments\n",
      "executable = fastqc.sh\n",
      "arguments = $(sample).trim.sub.fastq\n",
      "\n",
      "# Provide the container for our software\n",
      "universe    = container\n",
      "container_image = software/fastqc.sif\n",
      "\n",
      "# List files that need to be transferred to the job\n",
      "transfer_input_files = data/$(sample).trim.sub.fastq\n",
      "should_transfer_files = YES\n",
      "\n",
      "# Tell HTCondor to transfer output to our /results directory\n",
      "transfer_output_files = $(sample).trim.sub_fastqc.html\n",
      "transfer_output_remaps = \"$(sample).trim.sub_fastqc.html = results/$(sample).trim.sub_fastqc.html\"\n",
      "\n",
      "# Track job information\n",
      "log = logs/fastqc.log\n",
      "output = logs/fastqc.out\n",
      "error = logs/fastqc.err\n",
      "\n",
      "# Resource Requests\n",
      "request_cpus = 1\n",
      "request_memory = 1GB\n",
      "request_disk = 1GB\n",
      "\n",
      "# Tell HTCondor to run our job once:\n",
      "queue sample from list_of_samples.txt\n"
     ]
    }
   ],
   "source": [
    "cat many-fastqc.submit"
   ]
  },
  {
   "cell_type": "markdown",
   "id": "20a9e9eb-8b31-4d2b-95a7-64df7e17567a",
   "metadata": {},
   "source": [
    "And then submit many jobs using this single submit file!"
   ]
  },
  {
   "cell_type": "code",
   "execution_count": 2,
   "id": "31e6392e-928f-4b8c-8aca-e8470a9a99d6",
   "metadata": {},
   "outputs": [
    {
     "name": "stdout",
     "output_type": "stream",
     "text": [
      "Submitting job(s)\n",
      "ERROR: store_cred of LOCAL credential failed - Operation failed\n"
     ]
    },
    {
     "ename": "",
     "evalue": "1",
     "output_type": "error",
     "traceback": []
    }
   ],
   "source": [
    "condor_submit many-fastqc.submit"
   ]
  },
  {
   "cell_type": "markdown",
   "id": "3be64d5f-fb8b-4cb0-a232-d96dd150cb99",
   "metadata": {},
   "source": [
    "Notice that using a **single submit file**, we now have **multiple jobs in the queue**."
   ]
  },
  {
   "cell_type": "markdown",
   "id": "cff8d5f4-b7a3-4c1d-bb22-b1f9e26e04e8",
   "metadata": {},
   "source": [
    "We can check on the status of our multiple jobs in HTCondor's queue by using:"
   ]
  },
  {
   "cell_type": "code",
   "execution_count": null,
   "id": "f895390a-b20a-4076-90de-bcd94236c784",
   "metadata": {},
   "outputs": [],
   "source": [
    "condor_q"
   ]
  },
  {
   "cell_type": "markdown",
   "id": "d9ecf23c-1b3e-4539-b6cf-f78d80adc292",
   "metadata": {},
   "source": [
    "When ready, we can check our results in our `results/` directory:"
   ]
  },
  {
   "cell_type": "code",
   "execution_count": null,
   "id": "97431cb0-f605-415a-bd21-e9b45bf56479",
   "metadata": {},
   "outputs": [],
   "source": [
    "ls results/"
   ]
  },
  {
   "cell_type": "markdown",
   "id": "e91b2a3f-3270-4f1b-b82a-287c00cba3bc",
   "metadata": {},
   "source": [
    "Congratulations on finishing the first step of a sequencing analysis pipeline!"
   ]
  }
 ],
 "metadata": {
  "kernelspec": {
   "display_name": "Bash",
   "language": "bash",
   "name": "bash"
  },
  "language_info": {
   "codemirror_mode": "shell",
   "file_extension": ".sh",
   "mimetype": "text/x-sh",
   "name": "bash"
  }
 },
 "nbformat": 4,
 "nbformat_minor": 5
}
